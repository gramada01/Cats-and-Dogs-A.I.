{
 "cells": [
  {
   "cell_type": "code",
   "execution_count": 7,
   "id": "4353e8b8",
   "metadata": {},
   "outputs": [],
   "source": [
    "from PIL import Image\n",
    "import os\n",
    "\n",
    "basewidth = 300\n",
    "\n",
    "# nr_pictures1 = 0\n",
    "# nr_pictures2 = 0\n",
    "\n",
    "# for i in range(1, 10000):\n",
    "#     if os.path.isfile('Cat\\\\{}.jpg'.format(i)):\n",
    "#         img = Image.open('Cat\\\\{}.jpg'.format(i))\n",
    "\n",
    "#         w, h = img.size\n",
    "\n",
    "#         if w >= 300 and h >= 300:\n",
    "#             if nr_pictures1 == 400:\n",
    "#                 break\n",
    "#             nr_pictures1 += 1\n",
    "#             img = img.resize((basewidth, basewidth), Image.ANTIALIAS)\n",
    "#             img.save('Smaller_Cats\\\\{}.jpg'.format(nr_pictures1))\n",
    "\n",
    "# for i in range(1, 10000):\n",
    "#     if os.path.isfile('Dog\\\\{}.jpg'.format(i)):\n",
    "#         img = Image.open('Dog\\\\{}.jpg'.format(i))\n",
    "\n",
    "#         if w >= 300 and h >= 300:\n",
    "#             if nr_pictures2 == 400:\n",
    "#                 break\n",
    "#             nr_pictures2 += 1\n",
    "#             img = img.resize((basewidth, basewidth), Image.ANTIALIAS)\n",
    "#             img.save('Smaller_Dogs\\\\{}.jpg'.format(nr_pictures2))\n",
    "            \n",
    "\n",
    "for i in range(14, 15):\n",
    "    img = Image.open('Smaller_Animals\\\\{}.jpg'.format(i))\n",
    "    # rgb_im = img.convert('RGB')\n",
    "    # rgb_im.save('14.jpg')\n",
    "\n",
    "    img = img.resize((basewidth, basewidth), Image.ANTIALIAS)\n",
    "    img.save('Smaller_Animals\\\\{}.jpg'.format(i))\n"
   ]
  }
 ],
 "metadata": {
  "kernelspec": {
   "display_name": "Python 3",
   "language": "python",
   "name": "python3"
  },
  "language_info": {
   "codemirror_mode": {
    "name": "ipython",
    "version": 3
   },
   "file_extension": ".py",
   "mimetype": "text/x-python",
   "name": "python",
   "nbconvert_exporter": "python",
   "pygments_lexer": "ipython3",
   "version": "3.8.8"
  }
 },
 "nbformat": 4,
 "nbformat_minor": 5
}
