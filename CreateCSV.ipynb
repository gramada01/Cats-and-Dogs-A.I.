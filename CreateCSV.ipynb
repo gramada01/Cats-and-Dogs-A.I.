{
 "cells": [
  {
   "cell_type": "code",
   "execution_count": 2,
   "id": "4353e8b8",
   "metadata": {},
   "outputs": [
    {
     "name": "stdout",
     "output_type": "stream",
     "text": [
      "10404\n",
      "10404\n",
      "10404\n",
      "10404\n",
      "10404\n"
     ]
    }
   ],
   "source": [
    "import matplotlib.pyplot as plt\n",
    "import numpy as np\n",
    "import skimage.io, skimage.color\n",
    "import pandas as pd\n",
    "import os\n",
    "\n",
    "from skimage.feature import hog\n",
    "from skimage import data, exposure\n",
    "\n",
    "All_Data = []\n",
    "x = [i for i in range(0, 10404, 1)]\n",
    "# x.append('label')\n",
    "All_Data.append(x)\n",
    "\n",
    "# for i in range(1, 101):\n",
    "#     if os.path.isfile('Smaller_Cats\\\\{}.jpg'.format(i)):\n",
    "#         image = skimage.io.imread(\"Smaller_Cats\\\\{}.jpg\".format(i))\n",
    "\n",
    "#         fd, hog_image = hog(image, orientations=9, pixels_per_cell=(70, 70),\n",
    "#                         cells_per_block=(1, 1), visualize=True, multichannel=True)\n",
    "#         print(fd.size)\n",
    "\n",
    "#         fd = np.append(fd, 1.0)\n",
    "#         All_Data.append(fd)\n",
    "\n",
    "\n",
    "# for i in range(1, 101):\n",
    "#     if os.path.isfile('Smaller_Dogs\\\\{}.jpg'.format(i)):\n",
    "#         image = skimage.io.imread(\"Smaller_Dogs\\\\{}.jpg\".format(i))\n",
    "\n",
    "#         fd, hog_image = hog(image, orientations=9, pixels_per_cell=(70, 70),\n",
    "#                         cells_per_block=(1, 1), visualize=True, multichannel=True)\n",
    "\n",
    "#         fd = np.append(fd, -1.0)\n",
    "#         All_Data.append(fd)\n",
    "\n",
    "# np.savetxt(\"Data_Set200.csv\", All_Data, delimiter=\",\", fmt='% s')\n",
    "\n",
    "for i in range(1, 6):\n",
    "    image = skimage.io.imread(\"Smaller_Animals\\\\{}.jpg\".format(i))\n",
    "    fd, hog_image = hog(image, orientations=9, pixels_per_cell=(16, 16),\n",
    "                        cells_per_block=(2, 2), visualize=True, multichannel=True)\n",
    "    print(fd.size)\n",
    "    All_Data.append(fd)\n",
    "    \n",
    "\n",
    "for i in range(6, 15):\n",
    "    image = skimage.io.imread(\"Smaller_Animals\\\\{}.jpg\".format(i))\n",
    "    fd, hog_image = hog(image, orientations=9, pixels_per_cell=(16, 16),\n",
    "                        cells_per_block=(2, 2), visualize=True, multichannel=True)\n",
    "        \n",
    "    All_Data.append(fd)\n",
    "\n",
    "\n",
    "np.savetxt(\"Data_Set_testare.csv\", All_Data, delimiter=\",\", fmt='% s')\n",
    "\n"
   ]
  }
 ],
 "metadata": {
  "kernelspec": {
   "display_name": "Python 3",
   "language": "python",
   "name": "python3"
  },
  "language_info": {
   "codemirror_mode": {
    "name": "ipython",
    "version": 3
   },
   "file_extension": ".py",
   "mimetype": "text/x-python",
   "name": "python",
   "nbconvert_exporter": "python",
   "pygments_lexer": "ipython3",
   "version": "3.8.8"
  }
 },
 "nbformat": 4,
 "nbformat_minor": 5
}
